{
 "cells": [
  {
   "cell_type": "code",
   "execution_count": 1,
   "metadata": {
    "collapsed": true
   },
   "outputs": [],
   "source": [
    "import tensorflow as tf\n",
    "import numpy as np"
   ]
  },
  {
   "cell_type": "code",
   "execution_count": 2,
   "metadata": {
    "collapsed": true
   },
   "outputs": [],
   "source": [
    "#saving and restoring example\n",
    "BATCH_SIZE = 3\n",
    "VECTOR_SIZE = 1\n",
    "LEARNING_RATE = 0.1\n",
    "\n",
    "x = tf.placeholder(tf.float32, [BATCH_SIZE, VECTOR_SIZE],\n",
    "                   name='input_placeholder')\n",
    "y = tf.placeholder(tf.float32, [BATCH_SIZE, VECTOR_SIZE],\n",
    "                   name='labels_placeholder')\n",
    "\n",
    "W = tf.get_variable('W', [VECTOR_SIZE, BATCH_SIZE])\n",
    "b = tf.get_variable('b', [VECTOR_SIZE], initializer=tf.constant_initializer(0.0))\n",
    "\n",
    "y_hat = tf.matmul(W, x) + b\n",
    "predict = tf.add(tf.matmul(W, x), b, name='predict')\n",
    "total_loss = tf.reduce_mean(y-y_hat)\n",
    "train_step = tf.train.AdagradOptimizer(LEARNING_RATE).minimize(total_loss)\n",
    "X = np.ones([BATCH_SIZE, VECTOR_SIZE])\n",
    "Y = np.ones([BATCH_SIZE, VECTOR_SIZE])\n",
    "all_saver = tf.train.Saver() "
   ]
  },
  {
   "cell_type": "code",
   "execution_count": 3,
   "metadata": {},
   "outputs": [
    {
     "data": {
      "text/plain": [
       "'C:\\\\tmp\\\\tmp\\\\\\\\'"
      ]
     },
     "execution_count": 3,
     "metadata": {},
     "output_type": "execute_result"
    }
   ],
   "source": [
    "sess= tf.Session()\n",
    "sess.run(tf.global_variables_initializer())\n",
    "sess.run([train_step], feed_dict = {x: X, y:Y})\n",
    "save_path = r'C:\\tmp\\tmp\\\\'\n",
    "all_saver.save(sess,save_path)"
   ]
  },
  {
   "cell_type": "code",
   "execution_count": null,
   "metadata": {},
   "outputs": [],
   "source": [
    "\n",
    "# restoring\n",
    "meta_path = r'C:\\tmp\\tmp\\.meta'\n",
    "data_path = r'C:\\tmp\\tmp\\.data-00000-of-00001'\n",
    "new_all_saver = tf.train.import_meta_graph(meta_path)\n",
    "\n",
    "sess=tf.Session()\n",
    "new_all_saver.restore(sess, data_path)"
   ]
  }
 ],
 "metadata": {
  "kernelspec": {
   "display_name": "Python 3",
   "language": "python",
   "name": "python3"
  },
  "language_info": {
   "codemirror_mode": {
    "name": "ipython",
    "version": 3
   },
   "file_extension": ".py",
   "mimetype": "text/x-python",
   "name": "python",
   "nbconvert_exporter": "python",
   "pygments_lexer": "ipython3",
   "version": "3.5.4"
  }
 },
 "nbformat": 4,
 "nbformat_minor": 2
}
